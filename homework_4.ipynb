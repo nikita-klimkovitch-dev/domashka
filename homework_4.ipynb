{
 "cells": [
  {
   "cell_type": "code",
   "execution_count": 55,
   "id": "7a1622e0-eef6-4173-be47-65877c451902",
   "metadata": {},
   "outputs": [
    {
     "name": "stdout",
     "output_type": "stream",
     "text": [
      "задание 6.2\n",
      "исходная матрица\n",
      "[1, 2, 3, 4, 5]\n",
      "[6, 7, 8, 9, 10]\n",
      "[11, 12, 13, 14, 15]\n",
      "[16, 17, 18, 19, 20]\n",
      "[21, 22, 23, 24, 25]\n",
      "---------------\n",
      "преобразованная матрица\n",
      "[1, 2, 3, 4, 5]\n",
      "[10, 9, 8, 7, 6]\n",
      "[11, 12, 13, 14, 15]\n",
      "[20, 19, 18, 17, 16]\n",
      "[21, 22, 23, 24, 25]\n",
      "---------------\n"
     ]
    }
   ],
   "source": [
    "print('задание 6.2')\n",
    "def create_matrix(n: int) -> list: # создание матрицы размером n*n\n",
    "    matrix = []\n",
    "    for i in range(n):\n",
    "        temp = []\n",
    "        for j in range(n):\n",
    "            temp.append(i*n + j + 1)\n",
    "        matrix.append(temp)\n",
    "    return matrix\n",
    "def sort_matrix(matrix, n): # сортировка матрицы\n",
    "    for i in range(n):\n",
    "        if i % 2 == 1:\n",
    "            for j in range(n // 2):\n",
    "                matrix[i][j], matrix[i][n - j - 1] = matrix[i][n - j - 1], matrix[i][j]\n",
    "def print_matrix(matrix, n): # вывод матрицы в консоль\n",
    "    for i in range(n):\n",
    "        print(matrix[i])\n",
    "    print('---------------')\n",
    "size = 5\n",
    "print('исходная матрица')\n",
    "new_matrix = create_matrix(size)\n",
    "print_matrix(new_matrix, size)\n",
    "print('преобразованная матрица')\n",
    "sort_matrix(new_matrix, size)\n",
    "print_matrix(new_matrix, size)"
   ]
  },
  {
   "cell_type": "code",
   "execution_count": 48,
   "id": "e91099e7-7192-480c-9f73-228484c4157f",
   "metadata": {},
   "outputs": [
    {
     "name": "stdout",
     "output_type": "stream",
     "text": [
      "задание 6.1\n",
      "предыдущая матрица\n",
      "[1, 2, 3, 4, 5]\n",
      "[10, 9, 8, 7, 6]\n",
      "[11, 12, 13, 14, 15]\n",
      "[20, 19, 18, 17, 16]\n",
      "[21, 22, 23, 24, 25]\n",
      "---------------\n",
      "преобразованная матрица\n",
      "[1, 10, 11, 20, 21]\n",
      "[2, 9, 12, 19, 22]\n",
      "[3, 8, 13, 18, 23]\n",
      "[4, 7, 14, 17, 24]\n",
      "[5, 6, 15, 16, 25]\n",
      "---------------\n"
     ]
    }
   ],
   "source": [
    "print('задание 6.1')\n",
    "def trans_matrix(matrix, n): # транспонирование матрицы\n",
    "    for i in range(1, n): \n",
    "        for j in range(0, i):\n",
    "            matrix[j][i], matrix[i][j] = matrix[i][j], matrix[j][i]\n",
    "print('предыдущая матрица')\n",
    "print_matrix(new_matrix, size)\n",
    "print('преобразованная матрица')\n",
    "trans_matrix(new_matrix, size)\n",
    "print_matrix(new_matrix, size)\n"
   ]
  },
  {
   "cell_type": "code",
   "execution_count": 24,
   "id": "42ba298b-c4ca-4688-98fd-72015e4fa799",
   "metadata": {},
   "outputs": [
    {
     "name": "stdout",
     "output_type": "stream",
     "text": [
      "задание 5\n",
      "исходное число :  667445333\n",
      "полученный список :  [3, 3, 3, 5, 4, 4, 7, 6, 6]\n"
     ]
    }
   ],
   "source": [
    "print('задание 5')\n",
    "def return_digits(x: int) -> list: \n",
    "    digits_list = []\n",
    "    while x != 0:\n",
    "        y = int(x % 10) \n",
    "        digits_list.append(y)\n",
    "        x = (x - y) / 10\n",
    "    return digits_list\n",
    "num = 667445333\n",
    "print('исходное число : ', num)\n",
    "print('полученный список : ', return_digits(num))\n",
    "        "
   ]
  },
  {
   "cell_type": "code",
   "execution_count": 23,
   "id": "c27b5bcb-6a29-4065-8fcf-d0fd73d0cb71",
   "metadata": {},
   "outputs": [
    {
     "name": "stdout",
     "output_type": "stream",
     "text": [
      "задание 4\n",
      "год :  2001\n",
      "век :  21\n"
     ]
    }
   ],
   "source": [
    "print('задание 4')\n",
    "def return_centure(x: int) -> int: \n",
    "    if x % 100 == 0:\n",
    "        return x // 100\n",
    "    else:\n",
    "        return x // 100 + 1\n",
    "num = 2001\n",
    "print('год : ', num)\n",
    "print('век : ', return_centure(num))"
   ]
  },
  {
   "cell_type": "code",
   "execution_count": 27,
   "id": "5e60aa31-83cb-44bf-87e3-c972be5a1e1e",
   "metadata": {},
   "outputs": [
    {
     "name": "stdout",
     "output_type": "stream",
     "text": [
      "задание 3\n",
      "исходное число :  8\n",
      "получаемый список :  [8, 7, 6, 5, 4, 3, 2, 1]\n"
     ]
    }
   ],
   "source": [
    "print('задание 3')\n",
    "def reverse_list(x: int) -> list: \n",
    "    arr = []\n",
    "    for i in range(x, 0, -1):\n",
    "        arr.append(i)\n",
    "    return arr\n",
    "num = 8\n",
    "print('исходное число : ', num)\n",
    "print('получаемый список : ', reverse_list(num))"
   ]
  },
  {
   "cell_type": "code",
   "execution_count": 34,
   "id": "6ea5f344-97e8-4939-a595-4043d8fe734a",
   "metadata": {},
   "outputs": [
    {
     "name": "stdout",
     "output_type": "stream",
     "text": [
      "задание 2\n",
      "часы на велике :  3\n",
      "необходимое кол-во воды :  1\n"
     ]
    }
   ],
   "source": [
    "print('задание 2')\n",
    "def needed_water(x: int) -> int: \n",
    "    if x % 2 == 0:\n",
    "        return int(x * 0.5)\n",
    "    else:\n",
    "        return int((x - 1) * 0.5)\n",
    "num = 3\n",
    "print('часы на велике : ', num)\n",
    "print('необходимое кол-во воды : ', needed_water(num))"
   ]
  },
  {
   "cell_type": "code",
   "execution_count": 46,
   "id": "a2487e1c-6e7e-41a4-9281-a3972184ba21",
   "metadata": {},
   "outputs": [
    {
     "name": "stdout",
     "output_type": "stream",
     "text": [
      "задание 1\n",
      "исходная строка :  привет мир меня зовут Никита\n",
      "список слов :  ['привет', 'мир', 'меня', 'зовут', 'Никита']\n"
     ]
    }
   ],
   "source": [
    "print('задание 1')\n",
    "def string_to_list(st: str) -> list: \n",
    "    space_list : list[int] = [] # список с позициями пробелов\n",
    "    for i in range(len(st)):\n",
    "        if st[i] == ' ':\n",
    "            space_list.append(i)\n",
    "    # идея в том, что каждое слово окружено двумя пробелами\n",
    "    space_list.insert(0, -1) # добавляем пробел перед первым словом\n",
    "    space_list.append(len(st)+1) # добавляем пробел после последнего слова\n",
    "    slova : list[str] = [] # список слов\n",
    "    for i in range(len(space_list)-1):\n",
    "        slova.append(st[space_list[i]+1 : space_list[i+1]])\n",
    "    return slova\n",
    "stroka : str = 'привет мир меня зовут Никита'\n",
    "print('исходная строка : ', stroka)\n",
    "print('список слов : ', string_to_list(stroka))"
   ]
  },
  {
   "cell_type": "code",
   "execution_count": 71,
   "id": "1f51f935-2baf-4336-ad47-cc48dded4524",
   "metadata": {},
   "outputs": [
    {
     "name": "stdout",
     "output_type": "stream",
     "text": [
      "задание 6.3\n",
      "исходная матрица\n",
      "[0, 0, 0, 0, 0, 0, 0, 0, 0]\n",
      "[0, 0, 0, 0, 0, 0, 0, 0, 0]\n",
      "[0, 0, 0, 0, 0, 0, 0, 0, 0]\n",
      "[0, 0, 0, 0, 0, 0, 0, 0, 0]\n",
      "[0, 0, 0, 0, 0, 0, 0, 0, 0]\n",
      "[0, 0, 0, 0, 0, 0, 0, 0, 0]\n",
      "[0, 0, 0, 0, 0, 0, 0, 0, 0]\n",
      "[0, 0, 0, 0, 0, 0, 0, 0, 0]\n",
      "[0, 0, 0, 0, 0, 0, 0, 0, 0]\n",
      "---------------\n",
      "спиральая матрица\n",
      "[1, 2, 3, 4, 5, 6, 7, 8, 9]\n",
      "[32, 33, 34, 35, 36, 37, 38, 39, 10]\n",
      "[31, 56, 57, 58, 59, 60, 61, 40, 11]\n",
      "[30, 55, 72, 73, 74, 75, 62, 41, 12]\n",
      "[29, 54, 71, 80, 81, 76, 63, 42, 13]\n",
      "[28, 53, 70, 79, 78, 77, 64, 43, 14]\n",
      "[27, 52, 69, 68, 67, 66, 65, 44, 15]\n",
      "[26, 51, 50, 49, 48, 47, 46, 45, 16]\n",
      "[25, 24, 23, 22, 21, 20, 19, 18, 17]\n",
      "---------------\n"
     ]
    }
   ],
   "source": [
    "print('задание 6.3')\n",
    "\n",
    "def create_null_matrix(matrix : list, n : int) -> list:\n",
    "    matrix = []\n",
    "    for i in range(n):\n",
    "        temp = []\n",
    "        for j in range(n):\n",
    "            temp.append(0)\n",
    "        matrix.append(temp)\n",
    "    return matrix\n",
    "\n",
    "def spiral_matrix(matrix : list, n : int) -> list:\n",
    "    turn_num : int = 1\n",
    "    matrix[0][0] = 1\n",
    "    cur_i : int = 0\n",
    "    cur_j : int = 1\n",
    "    for i in range(2, n*n + 1):\n",
    "        matrix[cur_i][cur_j] = i\n",
    "        if turn_num == 1:\n",
    "            if cur_j + 1 not in range(n) or matrix[cur_i][cur_j + 1] != 0:\n",
    "                turn_num = 2\n",
    "            else:\n",
    "                cur_j += 1\n",
    "        if turn_num == 2:\n",
    "            if cur_i + 1 not in range(n) or matrix[cur_i + 1][cur_j] != 0:\n",
    "                turn_num = 3\n",
    "            else:\n",
    "                cur_i += 1\n",
    "        if turn_num == 3:\n",
    "            if cur_j - 1 not in range(n) or matrix[cur_i][cur_j - 1] != 0:\n",
    "                turn_num = 4\n",
    "            else:\n",
    "                cur_j -= 1\n",
    "        if turn_num == 4:\n",
    "            if cur_i - 1 not in range(n) or matrix[cur_i - 1][cur_j] != 0:\n",
    "                turn_num = 1\n",
    "                cur_j += 1\n",
    "            else:\n",
    "                cur_i -= 1\n",
    "    return matrix\n",
    "\n",
    "size : int = 9\n",
    "init_matrix : list = []\n",
    "null_matrix : list = create_null_matrix(init_matrix, size)\n",
    "print('исходная матрица')\n",
    "print_matrix(null_matrix, size)\n",
    "print('спиральая матрица')\n",
    "spiral_matrix(null_matrix, size)\n",
    "print_matrix(null_matrix, size)"
   ]
  },
  {
   "cell_type": "code",
   "execution_count": null,
   "id": "f830d214-e66c-445e-8376-b65d3940b27c",
   "metadata": {},
   "outputs": [],
   "source": []
  }
 ],
 "metadata": {
  "kernelspec": {
   "display_name": "Python [conda env:base] *",
   "language": "python",
   "name": "conda-base-py"
  },
  "language_info": {
   "codemirror_mode": {
    "name": "ipython",
    "version": 3
   },
   "file_extension": ".py",
   "mimetype": "text/x-python",
   "name": "python",
   "nbconvert_exporter": "python",
   "pygments_lexer": "ipython3",
   "version": "3.13.5"
  }
 },
 "nbformat": 4,
 "nbformat_minor": 5
}
