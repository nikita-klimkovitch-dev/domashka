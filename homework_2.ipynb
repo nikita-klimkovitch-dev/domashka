{
 "cells": [
  {
   "cell_type": "code",
   "execution_count": 1,
   "id": "2df73fdb-e353-4f46-b1e0-59bdfc0d15f5",
   "metadata": {},
   "outputs": [
    {
     "name": "stdout",
     "output_type": "stream",
     "text": [
      "задание 1.5\n",
      "первый корень: 10.0, второй корень: 2.0\n",
      "-----------\n"
     ]
    }
   ],
   "source": [
    "import math \n",
    "a : int # коэффициент при y^2\n",
    "b : int # коэффициент при y\n",
    "c : int # свободный член\n",
    "def find_solution(a, b, c): \n",
    "    d : int = b**2 - 4*a*c \n",
    "    if d > 0:\n",
    "        x1 : float = (-b + math.sqrt(d)) / (2*a)\n",
    "        x2 : float = (-b - math.sqrt(d)) / (2*a)\n",
    "        print(f\"первый корень: {round(x1, 2)}, второй корень: {round(x2, 2)}\")\n",
    "        return x1, x2 # возвращение значения (понадобиться в 1.10)\n",
    "    elif d == 0:\n",
    "        x1 : float = -b / (2*a) \n",
    "        print(f\"единственный корень уравнения: {round(x1, 2)}\")\n",
    "    else:\n",
    "        print(\"нет решений\")\n",
    "print(\"задание 1.5\")\n",
    "a, b, c = 1, -12, 20\n",
    "find_solution(a, b, c) \n",
    "print(\"-----------\")"
   ]
  },
  {
   "cell_type": "code",
   "execution_count": 2,
   "id": "ed0d62fa-085e-4d7e-b78f-e3e556e8347f",
   "metadata": {},
   "outputs": [
    {
     "name": "stdout",
     "output_type": "stream",
     "text": [
      "задание 1.6\n",
      "первый корень: -8.0, второй корень: -9.0\n",
      "-----------\n"
     ]
    }
   ],
   "source": [
    "print(\"задание 1.6\")\n",
    "a, b, c = 1, 17, 72\n",
    "find_solution(a, b, c) \n",
    "print(\"-----------\")"
   ]
  },
  {
   "cell_type": "code",
   "execution_count": 3,
   "id": "685a5206-e802-4619-ae96-213d66bb2e3d",
   "metadata": {},
   "outputs": [
    {
     "name": "stdout",
     "output_type": "stream",
     "text": [
      "задание 1.7\n",
      "первый корень: 11.0, второй корень: -4.0\n",
      "-----------\n"
     ]
    }
   ],
   "source": [
    "print(\"задание 1.7\")\n",
    "a, b, c = 1, -7, -44\n",
    "find_solution(a, b, c) \n",
    "print(\"-----------\")"
   ]
  },
  {
   "cell_type": "code",
   "execution_count": 4,
   "id": "49dbdd18-2bc4-4c99-82f5-43f01bbc92c6",
   "metadata": {},
   "outputs": [
    {
     "name": "stdout",
     "output_type": "stream",
     "text": [
      "задание 1.8\n",
      "первый корень: -1.0, второй корень: -8.0\n",
      "-----------\n"
     ]
    }
   ],
   "source": [
    "print(\"задание 1.8\")\n",
    "a, b, c = 1, 9, 8\n",
    "find_solution(a, b, c) \n",
    "print(\"-----------\")"
   ]
  },
  {
   "cell_type": "code",
   "execution_count": 5,
   "id": "2cff7a0f-9c46-4b9b-a2ef-aede943052f1",
   "metadata": {},
   "outputs": [
    {
     "name": "stdout",
     "output_type": "stream",
     "text": [
      "задание 1.9\n",
      "первый корень: 9.0, второй корень: -7.0\n",
      "-----------\n"
     ]
    }
   ],
   "source": [
    "print(\"задание 1.9\")\n",
    "a, b, c = 1, -2, -63\n",
    "find_solution(a, b, c) \n",
    "print(\"-----------\")"
   ]
  },
  {
   "cell_type": "code",
   "execution_count": 6,
   "id": "024df50f-8de0-404a-a648-3449cbba42cc",
   "metadata": {},
   "outputs": [
    {
     "name": "stdout",
     "output_type": "stream",
     "text": [
      "задание 1.10\n",
      "промежуточный результат:\n",
      "первый корень: 1.0, второй корень: -5.0\n",
      "ИТОГ\n",
      "первый результат:\n",
      "первый корень: 3.0, второй корень: -3.0\n",
      "второй результат:\n",
      "первый корень: 1.73, второй корень: -1.73\n",
      "-----------\n"
     ]
    }
   ],
   "source": [
    "print(\"задание 1.10\")\n",
    "a, b, c = 1, 4, -5\n",
    "print(\"промежуточный результат:\")\n",
    "x1, x2 = find_solution(a, b, c)\n",
    "print(\"ИТОГ\")\n",
    "print(\"первый результат:\")\n",
    "a, b, c = 1, 0, -8 - x1\n",
    "find_solution(a, b, c)\n",
    "print(\"второй результат:\")\n",
    "a, b, c = 1, 0, -8 - x2\n",
    "find_solution(a, b, c)\n",
    "print(\"-----------\")"
   ]
  },
  {
   "cell_type": "code",
   "execution_count": 7,
   "id": "ba6c889d-dc73-4987-9632-f4ef89ff746b",
   "metadata": {},
   "outputs": [
    {
     "name": "stdout",
     "output_type": "stream",
     "text": [
      "задание 2\n",
      "исходный список [3, -4, 6, -1, 1, 5, 7, 2]\n",
      "обратный список [2, 7, 5, 1, -1, 6, -4, 3]\n"
     ]
    }
   ],
   "source": [
    "print(\"задание 2\")\n",
    "a : list = [3, -4, 6, -1, 1, 5, 7, 2]\n",
    "print(f\"исходный список {a}\")\n",
    "for i in range(int(len(a) / 2)): \n",
    "    a[i], a[len(a) - i - 1] = a[len(a) - i - 1], a[i] \n",
    "print(f\"обратный список {a}\")"
   ]
  },
  {
   "cell_type": "code",
   "execution_count": 8,
   "id": "596e7b84-770a-4a33-859a-8cd1cd9a9462",
   "metadata": {},
   "outputs": [
    {
     "name": "stdout",
     "output_type": "stream",
     "text": [
      "задание 3\n",
      "исходный список [3, -4, 6, -1, 1, 5, 7, 2]\n",
      "обработанный список [2, -4, 6, -1, 1, 5, 7, 3]\n"
     ]
    }
   ],
   "source": [
    "print(\"задание 3\")\n",
    "def change(lst):\n",
    "    if len(lst) < 2:\n",
    "        print(\"Error\")\n",
    "    else:\n",
    "        lst[0], lst[len(a)-1] = lst[len(a)-1], lst[0]\n",
    "a : list = [3, -4, 6, -1, 1, 5, 7, 2]\n",
    "print(\"исходный список\", a)\n",
    "change(a)\n",
    "print(\"обработанный список\", a)"
   ]
  },
  {
   "cell_type": "code",
   "execution_count": 9,
   "id": "b8505f78-6d33-43a1-b8a1-44597cde97f6",
   "metadata": {},
   "outputs": [
    {
     "name": "stdout",
     "output_type": "stream",
     "text": [
      "задание 4\n",
      "исходный список [1, 2, 3, 4, 4, 3, 2, 1]\n",
      "бесполезное число: 0.5\n"
     ]
    }
   ],
   "source": [
    "print(\"задание 4\")\n",
    "def useless(lst) -> float:\n",
    "    return max(lst) / len(lst)\n",
    "a : list = [1, 2, 3, 4, 4, 3, 2, 1]\n",
    "print(\"исходный список\", a)\n",
    "print(f\"бесполезное число: {useless(a)}\")"
   ]
  },
  {
   "cell_type": "code",
   "execution_count": 10,
   "id": "f598e2ac-5950-4c63-91c0-d165e565fc51",
   "metadata": {},
   "outputs": [
    {
     "name": "stdout",
     "output_type": "stream",
     "text": [
      "задание 5\n",
      "---проверка---\n",
      "крот____\n",
      "белка___\n",
      "выхухоль\n",
      "человек_\n",
      "---конец проверки---\n",
      "исходный список ['крот', 'белка', 'выхухоль', 'человек']\n",
      "новый обработанный список ['крот____', 'белка___', 'выхухоль', 'человек_']\n"
     ]
    }
   ],
   "source": [
    "print(\"задание 5\")\n",
    "def all_eq(lst) -> list: \n",
    "    list_length : list = [] # пустой список размеров строк\n",
    "    new_list : list = [] # новый обработанный список\n",
    "    for i in range(len(lst)):\n",
    "        list_length.append(len(lst[i])) # заполнение массива длин строк\n",
    "    print(\"---проверка---\")\n",
    "    for i in range(len(lst)):\n",
    "        new_list.append(lst[i]) # в самом начале каждая новая строка равна исходной\n",
    "        if len(lst[i]) < max(list_length): # если длина текущей исходной строки меньше длины самой большой строки, то\n",
    "            for j in range(max(list_length) - len(lst[i])):\n",
    "                new_list[i] += '_' # то добавляется \"_\" в количестве (длина самой большой строки - длина текущей строки) \n",
    "        print(new_list[i])\n",
    "    print(\"---конец проверки---\")\n",
    "    return new_list\n",
    "a : list = ['крот', 'белка', 'выхухоль', 'человек']\n",
    "b = all_eq(a)\n",
    "print(\"исходный список\", a)\n",
    "print(\"новый обработанный список\", b)"
   ]
  },
  {
   "cell_type": "code",
   "execution_count": null,
   "id": "3f151502-32a1-4510-ab4d-223694cda23a",
   "metadata": {},
   "outputs": [],
   "source": []
  }
 ],
 "metadata": {
  "kernelspec": {
   "display_name": "Python [conda env:base] *",
   "language": "python",
   "name": "conda-base-py"
  },
  "language_info": {
   "codemirror_mode": {
    "name": "ipython",
    "version": 3
   },
   "file_extension": ".py",
   "mimetype": "text/x-python",
   "name": "python",
   "nbconvert_exporter": "python",
   "pygments_lexer": "ipython3",
   "version": "3.13.5"
  }
 },
 "nbformat": 4,
 "nbformat_minor": 5
}
